{
 "cells": [
  {
   "cell_type": "markdown",
   "metadata": {},
   "source": [
    "# Music Reviews: Pitchfork vs. TheNeedleDrop - WIP"
   ]
  },
  {
   "cell_type": "markdown",
   "metadata": {},
   "source": [
    "<div style=\"text-align: left\"> I read and watch a lot of reviews of music, because I listen to a lot of music and like to get the opinions and ideas of others on the stuff that I listen to. The largest outlet for music reviews (especially hip hop reviews) is Pitchfork, a site which I often feel misrepresents albums and gives too-high number ratings. Anthony Fantano, by contrast, is the \"internet's busiest music nerd,\" the largest online independent music reviewer and cultural icon, going on Youtube by TheNeedleDrop. Fantano and I have many different opinions on music, but I feel like I at least get a more consistent voice out of him, and a more balanced number rating system. As a personal project I wanted to compare the two quantitatively, to see what I could tease out about each of their reviewing systems.\n",
    "\n",
    "To get the Pitchfork reviews, I started to build a webscraper (rough draft is in this github folder) but realized that, because Pitchfork's scores are found only on the url of each review, I would have to open more than 24,000 urls, which on home wifi was looking like taking circa 50 hours. Luckily, someone on Kaggle has already done this, and so I use their database, sourced here: https://www.kaggle.com/nolanbconaway/pitchfork-data. I also borrow some code from this notebook based on the data: https://www.kaggle.com/nolanbconaway/is-the-first-album-the-best\n",
    "\n",
    "The Fantano reviews were going to be even harder to scrape, as many are only shown in his youtube reviews. Luckily, a bigger fan than me has already completed this and posted his list to reddit here: https://www.reddit.com/r/fantanoforever/comments/6eu3dm/list_of_reviews_album_scores/. This google sheet has been downloaded as needledrop.csv. \n",
    "\n",
    "The Fantano list continues to be maintained, but the Pitchfork data is from 2017, so some recent albums are missing. Note also that while Pitchfork scores with decimals, Fantano scores only in whole numbers. </div>"
   ]
  },
  {
   "cell_type": "markdown",
   "metadata": {},
   "source": [
    "## Importing Pitchfork Data"
   ]
  },
  {
   "cell_type": "code",
   "execution_count": 13,
   "metadata": {},
   "outputs": [
    {
     "data": {
      "text/plain": [
       "(24424, 6)"
      ]
     },
     "execution_count": 13,
     "metadata": {},
     "output_type": "execute_result"
    }
   ],
   "source": [
    "import sqlite3, datetime\n",
    "import pandas as pd\n",
    "import numpy as np\n",
    "\n",
    "# Import Pitchfork reviews from Kaggle database\n",
    "db = sqlite3.connect('pitchfork.sqlite')\n",
    "\n",
    "# Put relevant variables into dataframes\n",
    "pitchfork = pd.read_sql('SELECT reviewid, title, score, best_new_music FROM reviews', db)\n",
    "artist = pd.read_sql('SELECT * FROM artists', db)\n",
    "years = pd.read_sql('SELECT * FROM years', db)\n",
    "genres = pd.read_sql('SELECT * FROM genres', db)\n",
    "db.close()\n",
    "\n",
    "# Merge into one dataframe \n",
    "# There may be a cleaner way to do this in one merge, couldn't find it\n",
    "reviews_1 = pd.merge(pitchfork, years, on = 'reviewid')\n",
    "reviews_2 = pd.merge(reviews_1, artist, on = 'reviewid')\n",
    "reviews_3 = pd.merge(reviews_2, genres, on = 'reviewid')\n",
    "\n",
    "# Drop ID and adjust var names\n",
    "reviews_3 = reviews_3.drop(columns = 'reviewid')\n",
    "reviews_3 = reviews_3.rename(index=str, columns={\"score\": \"pitchfork\", \"best_new_music\":\"bnm\"})\n",
    "\n",
    "# Get size of dataframe\n",
    "reviews_3.shape"
   ]
  },
  {
   "cell_type": "markdown",
   "metadata": {},
   "source": [
    "24424 reviews!"
   ]
  },
  {
   "cell_type": "markdown",
   "metadata": {},
   "source": [
    "## Import Fantano Data"
   ]
  },
  {
   "cell_type": "code",
   "execution_count": 14,
   "metadata": {},
   "outputs": [
    {
     "data": {
      "text/plain": [
       "(1878, 3)"
      ]
     },
     "execution_count": 14,
     "metadata": {},
     "output_type": "execute_result"
    }
   ],
   "source": [
    "# Read in Fantano reviews, from fan site google doc\n",
    "fantano = pd.read_csv('needledrop.csv')\n",
    "\n",
    "# Standardize case\n",
    "fantano.artist = fantano.artist.str.lower()\n",
    "fantano.title = fantano.title.str.lower()\n",
    "\n",
    "fantano.shape"
   ]
  },
  {
   "cell_type": "markdown",
   "metadata": {},
   "source": [
    "Only 1878 reviews - still a lot for a one-man team of less than 10 years. "
   ]
  },
  {
   "cell_type": "markdown",
   "metadata": {},
   "source": [
    "## Merge Dataframes"
   ]
  },
  {
   "cell_type": "code",
   "execution_count": 15,
   "metadata": {},
   "outputs": [
    {
     "data": {
      "text/plain": [
       "(995, 8)"
      ]
     },
     "execution_count": 15,
     "metadata": {},
     "output_type": "execute_result"
    }
   ],
   "source": [
    "# Merge with Pitchfork reviews\n",
    "reviews = pd.merge(reviews_3, fantano, on = ['artist' , 'title'], how='outer', indicator=True)\n",
    "\n",
    "# Drop non-numeric reviews and clashes\n",
    "reviews.fantano = pd.to_numeric(reviews.fantano, errors='coerce')\n",
    "reviews = reviews[np.isnan(reviews.fantano) != True]\n",
    "reviews = reviews[np.isnan(reviews.pitchfork) != True]\n",
    "\n",
    "# Check shape again\n",
    "reviews.shape"
   ]
  },
  {
   "cell_type": "markdown",
   "metadata": {},
   "source": [
    "<div style=\"text-align: left\"> Down to 995 reviews. This is because some of Fantano's reviews are not reviewed by Pitchfork (and obviously vice versa), and also because some artist/album names are formatted slightly differently. Most of these naming sets are trivial - unicode differences, spaces, etc. - but given so many translated directly (n is still almost 1000!), I didn't feel a need to immediately try to rectify this. It's also reasonable to assume that there is no relation between the albums with small text differences, and (if that's true) we have a large random sample of the population, which should approximate any relationships well enough. Were this a more serious project, this would be something to fix. </div>"
   ]
  },
  {
   "cell_type": "markdown",
   "metadata": {},
   "source": [
    "## Data Vis/Analysis"
   ]
  },
  {
   "cell_type": "markdown",
   "metadata": {},
   "source": [
    "Let's look at the two distributions of scores:"
   ]
  },
  {
   "cell_type": "code",
   "execution_count": 16,
   "metadata": {},
   "outputs": [
    {
     "data": {
      "image/png": "[encoded data removed]",
      "text/plain": [
       "<matplotlib.figure.Figure at 0x1128e9250>"
      ]
     },
     "metadata": {},
     "output_type": "display_data"
    }
   ],
   "source": [
    "import matplotlib.pyplot as plt\n",
    "import seaborn as sns\n",
    "\n",
    "\n",
    "sns.kdeplot(reviews.fantano, shade = True)\n",
    "sns.kdeplot(reviews.pitchfork, shade = True)\n",
    "plt.xlabel('Score')\n",
    "plt.ylabel('Density')\n",
    "plt.show()"
   ]
  },
  {
   "cell_type": "markdown",
   "metadata": {},
   "source": [
    "<div style=\"text-align: left\"> We can see, as I suspected, that Pitchfork does seem to give higher reviews in general. Not only this, but their distribution is much steeper than Fantano's - they give reviews in a much smaller window. Let's check these stats quickly: </div>"
   ]
  },
  {
   "cell_type": "code",
   "execution_count": 17,
   "metadata": {},
   "outputs": [
    {
     "name": "stdout",
     "output_type": "stream",
     "text": [
      "Fantano:\n",
      "Mean = 6.2824120603\n",
      "Median = 6.0\n",
      "Upper Quartile = 8.0\n",
      "Lower Quartile = 5.0\n",
      "\n",
      "Pitchfork:\n",
      "Mean = 7.4016080402\n",
      "Median = 7.6\n",
      "Upper Quartile = 8.2\n",
      "Lower Quartile = 6.8\n"
     ]
    }
   ],
   "source": [
    "def quicksumm(df):\n",
    "    print \"Mean = \" + str(df.mean())\n",
    "    print \"Median = \" + str(df.median())\n",
    "    print \"Upper Quartile = \" + str(df.quantile(.75))\n",
    "    print \"Lower Quartile = \" + str(df.quantile(.25))\n",
    "\n",
    "print \"Fantano:\"\n",
    "quicksumm(reviews.fantano)\n",
    "print \"\\nPitchfork:\"\n",
    "quicksumm(reviews.pitchfork)"
   ]
  },
  {
   "cell_type": "markdown",
   "metadata": {},
   "source": [
    "<div style=\"text-align: left\"> This confirms what our eyes told us above. Pitchfork's mean score is 1.1 full points higher than Fantano's. The upper quartiles are similar, but Pitchfork rises 1.8 points higher on the lower quartile. This means that close to 75% of Pitchfork's scores are above a 7! </div>"
   ]
  },
  {
   "cell_type": "markdown",
   "metadata": {},
   "source": [
    "<div style=\"text-align: left\"> Another interesting place to look is the correlation between the two reviewing outlets. Are Fantano's reviews simply lower, but still in line with Pitchfork? Or is he also giving high reviews to low Pitchfork reviews, and vice-versa? Does what Pitchfork rate their albums have anything to do with what Fantano rates his albums? A simple way to look at this is the regression of Pitchfork scores on Fantano scores: </div>"
   ]
  },
  {
   "cell_type": "code",
   "execution_count": 18,
   "metadata": {},
   "outputs": [
    {
     "data": {
      "text/html": [
       "<table class=\"simpletable\">\n",
       "<caption>OLS Regression Results</caption>\n",
       "<tr>\n",
       "  <th>Dep. Variable:</th>         <td>fantano</td>     <th>  R-squared:         </th> <td>   0.081</td>\n",
       "</tr>\n",
       "<tr>\n",
       "  <th>Model:</th>                   <td>OLS</td>       <th>  Adj. R-squared:    </th> <td>   0.080</td>\n",
       "</tr>\n",
       "<tr>\n",
       "  <th>Method:</th>             <td>Least Squares</td>  <th>  F-statistic:       </th> <td>   67.28</td>\n",
       "</tr>\n",
       "<tr>\n",
       "  <th>Date:</th>             <td>Wed, 25 Jul 2018</td> <th>  Prob (F-statistic):</th> <td>7.26e-16</td>\n",
       "</tr>\n",
       "<tr>\n",
       "  <th>Time:</th>                 <td>00:36:17</td>     <th>  Log-Likelihood:    </th> <td> -1817.3</td>\n",
       "</tr>\n",
       "<tr>\n",
       "  <th>No. Observations:</th>      <td>   995</td>      <th>  AIC:               </th> <td>   3639.</td>\n",
       "</tr>\n",
       "<tr>\n",
       "  <th>Df Residuals:</th>          <td>   993</td>      <th>  BIC:               </th> <td>   3648.</td>\n",
       "</tr>\n",
       "<tr>\n",
       "  <th>Df Model:</th>              <td>     1</td>      <th>                     </th>     <td> </td>   \n",
       "</tr>\n",
       "<tr>\n",
       "  <th>Covariance Type:</th>         <td>HC1</td>       <th>                     </th>     <td> </td>   \n",
       "</tr>\n",
       "</table>\n",
       "<table class=\"simpletable\">\n",
       "<tr>\n",
       "      <td></td>         <th>coef</th>     <th>std err</th>      <th>z</th>      <th>P>|z|</th>  <th>[0.025</th>    <th>0.975]</th>  \n",
       "</tr>\n",
       "<tr>\n",
       "  <th>Intercept</th> <td>    3.4454</td> <td>    0.354</td> <td>    9.745</td> <td> 0.000</td> <td>    2.752</td> <td>    4.138</td>\n",
       "</tr>\n",
       "<tr>\n",
       "  <th>pitchfork</th> <td>    0.3833</td> <td>    0.047</td> <td>    8.202</td> <td> 0.000</td> <td>    0.292</td> <td>    0.475</td>\n",
       "</tr>\n",
       "</table>\n",
       "<table class=\"simpletable\">\n",
       "<tr>\n",
       "  <th>Omnibus:</th>       <td>21.806</td> <th>  Durbin-Watson:     </th> <td>   1.733</td>\n",
       "</tr>\n",
       "<tr>\n",
       "  <th>Prob(Omnibus):</th> <td> 0.000</td> <th>  Jarque-Bera (JB):  </th> <td>  22.785</td>\n",
       "</tr>\n",
       "<tr>\n",
       "  <th>Skew:</th>          <td>-0.362</td> <th>  Prob(JB):          </th> <td>1.13e-05</td>\n",
       "</tr>\n",
       "<tr>\n",
       "  <th>Kurtosis:</th>      <td> 2.837</td> <th>  Cond. No.          </th> <td>    49.1</td>\n",
       "</tr>\n",
       "</table><br/><br/>Warnings:<br/>[1] Standard Errors are heteroscedasticity robust (HC1)"
      ],
      "text/plain": [
       "<class 'statsmodels.iolib.summary.Summary'>\n",
       "\"\"\"\n",
       "                            OLS Regression Results                            \n",
       "==============================================================================\n",
       "Dep. Variable:                fantano   R-squared:                       0.081\n",
       "Model:                            OLS   Adj. R-squared:                  0.080\n",
       "Method:                 Least Squares   F-statistic:                     67.28\n",
       "Date:                Wed, 25 Jul 2018   Prob (F-statistic):           7.26e-16\n",
       "Time:                        00:36:17   Log-Likelihood:                -1817.3\n",
       "No. Observations:                 995   AIC:                             3639.\n",
       "Df Residuals:                     993   BIC:                             3648.\n",
       "Df Model:                           1                                         \n",
       "Covariance Type:                  HC1                                         \n",
       "==============================================================================\n",
       "                 coef    std err          z      P>|z|      [0.025      0.975]\n",
       "------------------------------------------------------------------------------\n",
       "Intercept      3.4454      0.354      9.745      0.000       2.752       4.138\n",
       "pitchfork      0.3833      0.047      8.202      0.000       0.292       0.475\n",
       "==============================================================================\n",
       "Omnibus:                       21.806   Durbin-Watson:                   1.733\n",
       "Prob(Omnibus):                  0.000   Jarque-Bera (JB):               22.785\n",
       "Skew:                          -0.362   Prob(JB):                     1.13e-05\n",
       "Kurtosis:                       2.837   Cond. No.                         49.1\n",
       "==============================================================================\n",
       "\n",
       "Warnings:\n",
       "[1] Standard Errors are heteroscedasticity robust (HC1)\n",
       "\"\"\""
      ]
     },
     "execution_count": 18,
     "metadata": {},
     "output_type": "execute_result"
    }
   ],
   "source": [
    "import statsmodels.formula.api as smf\n",
    "\n",
    "model = smf.ols('fantano ~ pitchfork', reviews)\n",
    "\n",
    "# Use heteroskedasticity robust standard errors. This is equivalent to reg y x, robust in Stata\n",
    "results = model.fit(cov_type='HC1') \n",
    "\n",
    "results.summary()"
   ]
  },
  {
   "cell_type": "markdown",
   "metadata": {},
   "source": [
    "And visualised:"
   ]
  },
  {
   "cell_type": "code",
   "execution_count": 20,
   "metadata": {},
   "outputs": [
    {
     "data": {
      "image/png": "[encoded data removed]",
      "text/plain": [
       "<matplotlib.figure.Figure at 0x112742790>"
      ]
     },
     "metadata": {},
     "output_type": "display_data"
    }
   ],
   "source": [
    "sns.jointplot(\"pitchfork\", \"fantano\", data=reviews, kind=\"reg\", xlim=(0, 10), ylim=(0, 10))\n",
    "plt.show()"
   ]
  },
  {
   "cell_type": "markdown",
   "metadata": {},
   "source": [
    "TODOs:\n",
    "* Explain Regression\n",
    "* Break down by Genre\n",
    "* Try to get RIAA data to correlate sales with score\n",
    "* Try to think of an instrument - possibly, if one comes out before the other, is the other more likely to be close? Unsure how to test this as will go both ways"
   ]
  }
 ],
 "metadata": {
  "kernelspec": {
   "display_name": "Python 2",
   "language": "python",
   "name": "python2"
  },
  "language_info": {
   "codemirror_mode": {
    "name": "ipython",
    "version": 2
   },
   "file_extension": ".py",
   "mimetype": "text/x-python",
   "name": "python",
   "nbconvert_exporter": "python",
   "pygments_lexer": "ipython2",
   "version": "2.7.13"
  }
 },
 "nbformat": 4,
 "nbformat_minor": 2
}
