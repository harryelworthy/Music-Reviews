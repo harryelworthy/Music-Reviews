{
 "cells": [
  {
   "cell_type": "markdown",
   "metadata": {},
   "source": [
    "# Music Reviews: Pitchfork vs. TheNeedleDrop"
   ]
  },
  {
   "cell_type": "markdown",
   "metadata": {},
   "source": [
    "<div style=\"text-align: left\"> I read and watch a lot of reviews of music, because I listen to a lot of music and like to get the opinions and ideas of others on the stuff that I listen to. The largest outlet for music reviews (especially hip hop reviews) is Pitchfork, a site which I often feel misrepresents albums and gives too-high number ratings. Anthony Fantano, by contrast, is the \"internet's busiest music nerd,\" the largest online independent music reviewer and cultural icon, going on Youtube by TheNeedleDrop. Fantano and I have many different opinions on music, but I feel like I at least get a more consistent voice out of him, and a more balanced number rating system. As a personal project I wanted to compare the two quantitatively, to see what I could tease out about each of their reviewing systems.\n",
    "\n",
    "To get the Pitchfork reviews, I started to build a webscraper (rough draft is in this github folder) but realized that, because Pitchfork's scores are found only on the url of each review, I would have to open more than 24,000 urls, which on home wifi was looking like taking circa 50 hours. Luckily, someone on Kaggle has already done this, and so I use their database, sourced here: https://www.kaggle.com/nolanbconaway/pitchfork-data. I also borrow some code from this notebook based on the data: https://www.kaggle.com/nolanbconaway/is-the-first-album-the-best\n",
    "\n",
    "The Fantano reviews were going to be even harder to scrape, as many are only shown in his youtube reviews. Luckily, a bigger fan than me has already completed this and posted his list to reddit here: https://www.reddit.com/r/fantanoforever/comments/6eu3dm/list_of_reviews_album_scores/. This google sheet has been downloaded as needledrop.csv. \n",
    "\n",
    "The Fantano list continues to be maintained, but the Pitchfork data is from 2017, so some recent albums are missing. Note also that while Pitchfork scores with decimals, Fantano scores only in whole numbers. </div>"
   ]
  },
  {
   "cell_type": "markdown",
   "metadata": {},
   "source": [
    "## Importing Pitchfork Data"
   ]
  },
  {
   "cell_type": "code",
   "execution_count": 1,
   "metadata": {},
   "outputs": [
    {
     "data": {
      "text/plain": [
       "(24424, 6)"
      ]
     },
     "execution_count": 1,
     "metadata": {},
     "output_type": "execute_result"
    }
   ],
   "source": [
    "import sqlite3, datetime\n",
    "import pandas as pd\n",
    "import numpy as np\n",
    "\n",
    "# Import Pitchfork reviews from Kaggle database\n",
    "db = sqlite3.connect('pitchfork.sqlite')\n",
    "\n",
    "# Put relevant variables into dataframes\n",
    "pitchfork = pd.read_sql('SELECT reviewid, title, score, best_new_music FROM reviews', db)\n",
    "artist = pd.read_sql('SELECT * FROM artists', db)\n",
    "years = pd.read_sql('SELECT * FROM years', db)\n",
    "genres = pd.read_sql('SELECT * FROM genres', db)\n",
    "db.close()\n",
    "\n",
    "# Merge into one dataframe \n",
    "# There may be a cleaner way to do this in one merge, couldn't find it\n",
    "reviews_1 = pd.merge(pitchfork, years, on = 'reviewid')\n",
    "reviews_2 = pd.merge(reviews_1, artist, on = 'reviewid')\n",
    "reviews_3 = pd.merge(reviews_2, genres, on = 'reviewid')\n",
    "\n",
    "# Drop ID and adjust var names\n",
    "reviews_3 = reviews_3.drop(columns = 'reviewid')\n",
    "reviews_3 = reviews_3.rename(index=str, columns={\"score\": \"pitchfork\", \"best_new_music\":\"bnm\"})\n",
    "\n",
    "# Get size of dataframe\n",
    "reviews_3.shape"
   ]
  },
  {
   "cell_type": "markdown",
   "metadata": {},
   "source": [
    "24424 reviews!"
   ]
  },
  {
   "cell_type": "markdown",
   "metadata": {},
   "source": [
    "## Import Fantano Data"
   ]
  },
  {
   "cell_type": "code",
   "execution_count": 2,
   "metadata": {},
   "outputs": [
    {
     "data": {
      "text/plain": [
       "(1878, 3)"
      ]
     },
     "execution_count": 2,
     "metadata": {},
     "output_type": "execute_result"
    }
   ],
   "source": [
    "# Read in Fantano reviews, from fan site google doc\n",
    "fantano = pd.read_csv('needledrop.csv')\n",
    "\n",
    "# Standardize case\n",
    "fantano.artist = fantano.artist.str.lower()\n",
    "fantano.title = fantano.title.str.lower()\n",
    "\n",
    "fantano.shape"
   ]
  },
  {
   "cell_type": "markdown",
   "metadata": {},
   "source": [
    "Only 1878 reviews - still a lot for a one-man team of less than 10 years. "
   ]
  },
  {
   "cell_type": "markdown",
   "metadata": {},
   "source": [
    "## Merge Dataframes"
   ]
  },
  {
   "cell_type": "code",
   "execution_count": 3,
   "metadata": {},
   "outputs": [
    {
     "ename": "NameError",
     "evalue": "name 'previews' is not defined",
     "output_type": "error",
     "traceback": [
      "\u001b[0;31m---------------------------------------------------------------------------\u001b[0m",
      "\u001b[0;31mNameError\u001b[0m                                 Traceback (most recent call last)",
      "\u001b[0;32m<ipython-input-3-71f3c16e0869>\u001b[0m in \u001b[0;36m<module>\u001b[0;34m()\u001b[0m\n\u001b[1;32m      1\u001b[0m \u001b[0;31m# Merge with Pitchfork reviews\u001b[0m\u001b[0;34m\u001b[0m\u001b[0;34m\u001b[0m\u001b[0m\n\u001b[0;32m----> 2\u001b[0;31m \u001b[0mreviews\u001b[0m \u001b[0;34m=\u001b[0m \u001b[0mpd\u001b[0m\u001b[0;34m.\u001b[0m\u001b[0mmerge\u001b[0m\u001b[0;34m(\u001b[0m\u001b[0mpreviews\u001b[0m\u001b[0;34m,\u001b[0m \u001b[0mfantano\u001b[0m\u001b[0;34m,\u001b[0m \u001b[0mon\u001b[0m \u001b[0;34m=\u001b[0m \u001b[0;34m[\u001b[0m\u001b[0;34m'artist'\u001b[0m \u001b[0;34m,\u001b[0m \u001b[0;34m'title'\u001b[0m\u001b[0;34m]\u001b[0m\u001b[0;34m,\u001b[0m \u001b[0mhow\u001b[0m\u001b[0;34m=\u001b[0m\u001b[0;34m'outer'\u001b[0m\u001b[0;34m,\u001b[0m \u001b[0mindicator\u001b[0m\u001b[0;34m=\u001b[0m\u001b[0mTrue\u001b[0m\u001b[0;34m)\u001b[0m\u001b[0;34m\u001b[0m\u001b[0m\n\u001b[0m\u001b[1;32m      3\u001b[0m \u001b[0;34m\u001b[0m\u001b[0m\n\u001b[1;32m      4\u001b[0m \u001b[0;31m# Drop non-numeric reviews and clashes\u001b[0m\u001b[0;34m\u001b[0m\u001b[0;34m\u001b[0m\u001b[0m\n\u001b[1;32m      5\u001b[0m \u001b[0mreviews\u001b[0m\u001b[0;34m.\u001b[0m\u001b[0mfantano\u001b[0m \u001b[0;34m=\u001b[0m \u001b[0mpd\u001b[0m\u001b[0;34m.\u001b[0m\u001b[0mto_numeric\u001b[0m\u001b[0;34m(\u001b[0m\u001b[0mreviews\u001b[0m\u001b[0;34m.\u001b[0m\u001b[0mfantano\u001b[0m\u001b[0;34m,\u001b[0m \u001b[0merrors\u001b[0m\u001b[0;34m=\u001b[0m\u001b[0;34m'coerce'\u001b[0m\u001b[0;34m)\u001b[0m\u001b[0;34m\u001b[0m\u001b[0m\n",
      "\u001b[0;31mNameError\u001b[0m: name 'previews' is not defined"
     ]
    }
   ],
   "source": [
    "# Merge with Pitchfork reviews\n",
    "reviews = pd.merge(previews, fantano, on = ['artist' , 'title'], how='outer', indicator=True)\n",
    "\n",
    "# Drop non-numeric reviews and clashes\n",
    "reviews.fantano = pd.to_numeric(reviews.fantano, errors='coerce')\n",
    "reviews = reviews[np.isnan(reviews.fantano) != True]\n",
    "reviews = reviews[np.isnan(reviews.pitchfork) != True]\n",
    "\n",
    "# Check shape again\n",
    "reviews.shape"
   ]
  },
  {
   "cell_type": "markdown",
   "metadata": {},
   "source": [
    "Down to 994 reviews. This is because some of Fantano's reviews are not reviewed by Pitchfork (and obviously vice versa), and also because some artist/album names are formatted slightly differently. Most of these naming sets are trivial - unicode differences, spaces, etc. - but given so many translated directly (n is still almost 1000!), I didn't feel a need to immediately try to rectify this. It's also reasonable to assume that there is no relation between the albums with small text differences, and (if that's true) we have a large random sample of the population, which should approximate any relationships well enough. Were this a more serious project, this would be something to fix."
   ]
  },
  {
   "cell_type": "markdown",
   "metadata": {},
   "source": [
    "## Data Vis/Analysis"
   ]
  },
  {
   "cell_type": "markdown",
   "metadata": {},
   "source": [
    "Let's look at the two distributions of scores:"
   ]
  },
  {
   "cell_type": "code",
   "execution_count": null,
   "metadata": {},
   "outputs": [],
   "source": [
    "import matplotlib.pyplot as plt\n",
    "import seaborn as sns\n",
    "\n",
    "\n",
    "sns.kdeplot(reviews.fantano, shade = True)\n",
    "sns.kdeplot(reviews.pitchfork, shade = True)\n",
    "plt.xlabel('Score')\n",
    "plt.ylabel('Density')\n",
    "plt.show()"
   ]
  },
  {
   "cell_type": "markdown",
   "metadata": {},
   "source": [
    "We can see, as I suspected, that Pitchfork does seem to give higher reviews in general. Not only this, but their distribution is much steeper than Fantano's - they give reviews in a much smaller window. Let's check these stats quickly:"
   ]
  },
  {
   "cell_type": "code",
   "execution_count": null,
   "metadata": {},
   "outputs": [],
   "source": [
    "def quicksumm(df):\n",
    "    print \"Mean = \" + str(df.mean())\n",
    "    print \"Median = \" + str(df.median())\n",
    "    print \"Upper Quartile = \" + str(df.quantile(.75))\n",
    "    print \"Lower Quartile = \" + str(df.quantile(.25))\n",
    "\n",
    "print \"Fantano:\"\n",
    "quicksumm(reviews.fantano)\n",
    "print \"\\nPitchfork:\"\n",
    "quicksumm(reviews.pitchfork)"
   ]
  },
  {
   "cell_type": "markdown",
   "metadata": {},
   "source": [
    "This confirms what our eyes told us above. Pitchfork's mean score is 1.1 full points higher than Fantano's. The upper quartiles are similar, but Pitchfork rises 1.8 points higher on the lower quartile. This means that close to 75% of Pitchfork's scores are above a 7!"
   ]
  },
  {
   "cell_type": "markdown",
   "metadata": {},
   "source": [
    "Another interesting place to look is the correlation between the two reviewing outlets. Are Fantano's reviews simply lower, but still in line with Pitchfork? Or is he also giving high reviews to low Pitchfork reviews, and vice-versa? Does what Pitchfork rate their albums have anything to do with what Fantano rates his albums? A simple way to look at this is the regression of Pitchfork scores on Fantano scores:"
   ]
  },
  {
   "cell_type": "code",
   "execution_count": null,
   "metadata": {},
   "outputs": [],
   "source": [
    "import statsmodels.formula.api as smf\n",
    "\n",
    "model = smf.ols('fantano ~ pitchfork', reviews)\n",
    "\n",
    "# Use heteroskedasticity robust standard errors. This is equivalent to reg y x, robust in Stata\n",
    "results = model.fit(cov_type='HC1') \n",
    "\n",
    "results.summary()"
   ]
  }
 ],
 "metadata": {
  "kernelspec": {
   "display_name": "Python 2",
   "language": "python",
   "name": "python2"
  },
  "language_info": {
   "codemirror_mode": {
    "name": "ipython",
    "version": 2
   },
   "file_extension": ".py",
   "mimetype": "text/x-python",
   "name": "python",
   "nbconvert_exporter": "python",
   "pygments_lexer": "ipython2",
   "version": "2.7.13"
  }
 },
 "nbformat": 4,
 "nbformat_minor": 2
}
